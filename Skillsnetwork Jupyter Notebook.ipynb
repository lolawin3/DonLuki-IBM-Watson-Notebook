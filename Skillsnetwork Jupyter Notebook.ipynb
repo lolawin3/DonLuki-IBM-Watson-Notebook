{
    "cells": [
        {
            "metadata": {
                "collapsed": true
            },
            "cell_type": "markdown",
            "source": "# My Jupyter Notebook on IBM Watson Studio"
        },
        {
            "metadata": {},
            "cell_type": "markdown",
            "source": "**Luqman Olawin**\n\nCloud Architect"
        },
        {
            "metadata": {},
            "cell_type": "markdown",
            "source": "*I am interested in data science because I know humans can have bias when making decisions and analyzing data can help us make more objective decisions or at the very least close to it.*"
        },
        {
            "metadata": {},
            "cell_type": "markdown",
            "source": "### The following code tests the addition operator"
        },
        {
            "metadata": {},
            "cell_type": "code",
            "source": "4+1",
            "execution_count": 10,
            "outputs": [
                {
                    "output_type": "execute_result",
                    "execution_count": 10,
                    "data": {
                        "text/plain": "5"
                    },
                    "metadata": {}
                }
            ]
        },
        {
            "metadata": {},
            "cell_type": "code",
            "source": "#The next cell will include 3 of the following rules; horizontal rule, bulleted list, numbered list, tables, hyperlinks, images, code/syntax highlighting, blocked quotes, strikethrough.",
            "execution_count": 11,
            "outputs": []
        },
        {
            "metadata": {},
            "cell_type": "markdown",
            "source": "#Numbered list \n\nList of Players:\n1. Zidedine Zidane\n2. Diego Maradona\n3. Cristiano Ronaldo\n4. Lionel Messi\n    \n#Hyperlinks\n\nClick the link for a picture of Thierry Henry,the ex-Arsenal player [Thierry Henry](https://images.app.goo.gl/sv2EEk8aiWQfpmez7 \"Theirry Henry at Arsenal\")\n \n#images\n\nOr see the image of Lionel Messi (the dimunitive footballer) below:\n![alt text](https://e3.365dm.com/21/04/1600x900/football-messi-lionel_5359730.jpg?bypass-service-worker&20210429092619 \"Lionel Messi\")\n\n#strikethrough\n\nAnd also the ~Strikethrough~"
        },
        {
            "metadata": {},
            "cell_type": "code",
            "source": "",
            "execution_count": null,
            "outputs": []
        }
    ],
    "metadata": {
        "kernelspec": {
            "name": "python3",
            "display_name": "Python 3.8",
            "language": "python"
        },
        "language_info": {
            "name": "python",
            "version": "3.8.11",
            "mimetype": "text/x-python",
            "codemirror_mode": {
                "name": "ipython",
                "version": 3
            },
            "pygments_lexer": "ipython3",
            "nbconvert_exporter": "python",
            "file_extension": ".py"
        }
    },
    "nbformat": 4,
    "nbformat_minor": 1
}